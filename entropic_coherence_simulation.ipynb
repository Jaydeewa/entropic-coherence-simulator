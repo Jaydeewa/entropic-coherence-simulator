
{
 "cells": [
  {
   "cell_type": "markdown",
   "metadata": {},
   "source": [
    "# Entropic-Coherence Simulation Toolkit\n",
    "**By Jason Willoughby (2025)**\n",
    "\n",
    "This interactive notebook allows simulation of key quantum systems using the Entropic-Coherence Principle (ECP).\n",
    "It models Double Slit, Quantum Tunneling, and Harmonic Oscillator behaviors without requiring path integrals or imaginary-time methods."
   ]
  },
  {
   "cell_type": "code",
   "execution_count": null,
   "metadata": {},
   "outputs": [],
   "source": [
    "import numpy as np\n",
    "import matplotlib.pyplot as plt\n",
    "import ipywidgets as widgets\n",
    "from IPython.display import display\n",
    "x = np.linspace(-2, 2, 1000)\n",
    "sim_type = widgets.Dropdown(options=['Double Slit', 'Quantum Tunneling', 'Harmonic Oscillator'],value='Double Slit',description='Simulation:')\n",
    "gamma_slider = widgets.FloatSlider(value=1.0, min=0, max=5, step=0.1, description='γ (Coherence Weight):')\n",
    "delta_slider = widgets.FloatSlider(value=1.0, min=0, max=5, step=0.1, description='δ (Decoherence Weight):')\n",
    "entropy_scale = widgets.FloatSlider(value=0.02, min=0.005, max=0.1, step=0.005, description='Entropy Width:')\n",
    "coherence_freq = widgets.FloatSlider(value=5, min=1, max=20, step=1, description='Coherence Frequency:')\n",
    "decoherence_level = widgets.FloatSlider(value=0.2, min=0.0, max=1.0, step=0.05, description='Decoherence Noise:')\n",
    "def run_simulation(simulation_type, gamma, delta, entropy_width, coherence_frequency, decoherence_strength):\n",
    " S = np.exp(-x**2 / entropy_width)\n",
    " C = np.cos(coherence_frequency * np.pi * x) ** 2\n",
    " np.random.seed(42)\n",
    " D = np.random.rand(len(x)) * decoherence_strength\n",
    " V = np.zeros_like(x)\n",
    " if simulation_type == 'Quantum Tunneling':\n",
    "     V[(x > -0.5) & (x < 0.5)] = 1.0\n",
    "     S = np.exp(-V)\n",
    " elif simulation_type == 'Harmonic Oscillator':\n",
    "     V = 0.5 * x**2\n",
    "     S = np.exp(-V)\n",
    " P = np.exp(S + gamma * C - delta * D)\n",
    " P /= np.sum(P)\n",
    " plt.figure(figsize=(12, 6))\n",
    " plt.plot(x, P, label='Entropic-Coherence P(x)', linewidth=2)\n",
    " plt.plot(x, V / np.max(V + 1e-9), '--', label='Normalized Potential V(x)', alpha=0.6)\n",
    " plt.title(f'{simulation_type} - Entropic-Coherence Simulation')\n",
    " plt.xlabel('Position (x)')\n",
    " plt.ylabel('Normalized Probability')\n",
    " plt.grid(True)\n",
    " plt.legend()\n",
    " plt.show()\n",
    "ui = widgets.VBox([sim_type, gamma_slider, delta_slider, entropy_scale, coherence_freq, decoherence_level])\n",
    "out = widgets.interactive_output(run_simulation, {'simulation_type': sim_type,'gamma': gamma_slider,'delta': delta_slider,'entropy_width': entropy_scale,'coherence_frequency': coherence_freq,'decoherence_strength': decoherence_level})\n",
    "display(ui, out)"
   ]
  }
 ],
 "metadata": {
  "kernelspec": {
   "display_name": "Python 3",
   "language": "python",
   "name": "python3"
  },
  "language_info": {
   "name": "python"
  }
 },
 "nbformat": 4,
 "nbformat_minor": 2
}
